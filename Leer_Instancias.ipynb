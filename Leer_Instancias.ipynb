{
  "nbformat": 4,
  "nbformat_minor": 0,
  "metadata": {
    "colab": {
      "provenance": [],
      "authorship_tag": "ABX9TyP/Dz7txtZVI9iRFJP7HfDf",
      "include_colab_link": true
    },
    "kernelspec": {
      "name": "python3",
      "display_name": "Python 3"
    },
    "language_info": {
      "name": "python"
    }
  },
  "cells": [
    {
      "cell_type": "markdown",
      "metadata": {
        "id": "view-in-github",
        "colab_type": "text"
      },
      "source": [
        "<a href=\"https://colab.research.google.com/github/OmyyFlow/Tesis/blob/main/Leer_Instancias.ipynb\" target=\"_parent\"><img src=\"https://colab.research.google.com/assets/colab-badge.svg\" alt=\"Open In Colab\"/></a>"
      ]
    },
    {
      "cell_type": "code",
      "source": [
        "import requests\n",
        "\n",
        "url = 'https://vrp.atd-lab.inf.puc-rio.br/media/com_vrp/instances/Vrp-Set-A.zip'\n",
        "nombre_archivo = 'CVRP_instances.zip'\n",
        "\n",
        "response = requests.get(url, verify=False)\n",
        "with open(nombre_archivo, 'wb') as f:\n",
        "    f.write(response.content)\n",
        "\n",
        "print(f\"Archivo {nombre_archivo} descargado correctamente\")"
      ],
      "metadata": {
        "colab": {
          "base_uri": "https://localhost:8080/"
        },
        "id": "HZKJjwd-dDg1",
        "outputId": "90375224-5cac-41e2-c749-270d63969264"
      },
      "execution_count": 1,
      "outputs": [
        {
          "output_type": "stream",
          "name": "stderr",
          "text": [
            "/usr/local/lib/python3.12/dist-packages/urllib3/connectionpool.py:1097: InsecureRequestWarning: Unverified HTTPS request is being made to host 'vrp.atd-lab.inf.puc-rio.br'. Adding certificate verification is strongly advised. See: https://urllib3.readthedocs.io/en/latest/advanced-usage.html#tls-warnings\n",
            "  warnings.warn(\n"
          ]
        },
        {
          "output_type": "stream",
          "name": "stdout",
          "text": [
            "Archivo CVRP_instances.zip descargado correctamente\n"
          ]
        }
      ]
    },
    {
      "cell_type": "code",
      "source": [
        "!unzip CVRP_instances.zip -d CVRP_instances"
      ],
      "metadata": {
        "colab": {
          "base_uri": "https://localhost:8080/"
        },
        "id": "REf25nFzBLS_",
        "outputId": "52d614c3-59e1-44b0-a5e9-a39b08f61899"
      },
      "execution_count": 2,
      "outputs": [
        {
          "output_type": "stream",
          "name": "stdout",
          "text": [
            "Archive:  CVRP_instances.zip\n",
            "   creating: CVRP_instances/A/\n",
            "  inflating: CVRP_instances/A/A-n80-k10.sol  \n",
            "  inflating: CVRP_instances/A/A-n80-k10.vrp  \n",
            "  inflating: CVRP_instances/A/A-n69-k9.vrp  \n",
            "  inflating: CVRP_instances/A/A-n69-k9.sol  \n",
            "  inflating: CVRP_instances/A/A-n65-k9.vrp  \n",
            "  inflating: CVRP_instances/A/A-n65-k9.sol  \n",
            "  inflating: CVRP_instances/A/A-n64-k9.vrp  \n",
            "  inflating: CVRP_instances/A/A-n64-k9.sol  \n",
            "  inflating: CVRP_instances/A/A-n63-k9.vrp  \n",
            "  inflating: CVRP_instances/A/A-n63-k9.sol  \n",
            "  inflating: CVRP_instances/A/A-n63-k10.vrp  \n",
            "  inflating: CVRP_instances/A/A-n63-k10.sol  \n",
            "  inflating: CVRP_instances/A/A-n62-k8.vrp  \n",
            "  inflating: CVRP_instances/A/A-n62-k8.sol  \n",
            "  inflating: CVRP_instances/A/A-n61-k9.vrp  \n",
            "  inflating: CVRP_instances/A/A-n61-k9.sol  \n",
            "  inflating: CVRP_instances/A/A-n60-k9.vrp  \n",
            "  inflating: CVRP_instances/A/A-n60-k9.sol  \n",
            "  inflating: CVRP_instances/A/A-n55-k9.vrp  \n",
            "  inflating: CVRP_instances/A/A-n55-k9.sol  \n",
            "  inflating: CVRP_instances/A/A-n54-k7.vrp  \n",
            "  inflating: CVRP_instances/A/A-n54-k7.sol  \n",
            "  inflating: CVRP_instances/A/A-n53-k7.vrp  \n",
            "  inflating: CVRP_instances/A/A-n53-k7.sol  \n",
            "  inflating: CVRP_instances/A/A-n48-k7.vrp  \n",
            "  inflating: CVRP_instances/A/A-n48-k7.sol  \n",
            "  inflating: CVRP_instances/A/A-n46-k7.vrp  \n",
            "  inflating: CVRP_instances/A/A-n46-k7.sol  \n",
            "  inflating: CVRP_instances/A/A-n45-k7.vrp  \n",
            "  inflating: CVRP_instances/A/A-n45-k7.sol  \n",
            "  inflating: CVRP_instances/A/A-n45-k6.vrp  \n",
            "  inflating: CVRP_instances/A/A-n45-k6.sol  \n",
            "  inflating: CVRP_instances/A/A-n44-k6.vrp  \n",
            "  inflating: CVRP_instances/A/A-n44-k6.sol  \n",
            "  inflating: CVRP_instances/A/A-n39-k6.vrp  \n",
            "  inflating: CVRP_instances/A/A-n39-k6.sol  \n",
            "  inflating: CVRP_instances/A/A-n39-k5.vrp  \n",
            "  inflating: CVRP_instances/A/A-n39-k5.sol  \n",
            "  inflating: CVRP_instances/A/A-n38-k5.vrp  \n",
            "  inflating: CVRP_instances/A/A-n38-k5.sol  \n",
            "  inflating: CVRP_instances/A/A-n37-k6.vrp  \n",
            "  inflating: CVRP_instances/A/A-n37-k6.sol  \n",
            "  inflating: CVRP_instances/A/A-n37-k5.vrp  \n",
            "  inflating: CVRP_instances/A/A-n37-k5.sol  \n",
            "  inflating: CVRP_instances/A/A-n36-k5.vrp  \n",
            "  inflating: CVRP_instances/A/A-n36-k5.sol  \n",
            "  inflating: CVRP_instances/A/A-n34-k5.vrp  \n",
            "  inflating: CVRP_instances/A/A-n34-k5.sol  \n",
            "  inflating: CVRP_instances/A/A-n33-k6.vrp  \n",
            "  inflating: CVRP_instances/A/A-n33-k6.sol  \n",
            "  inflating: CVRP_instances/A/A-n33-k5.vrp  \n",
            "  inflating: CVRP_instances/A/A-n33-k5.sol  \n",
            "  inflating: CVRP_instances/A/A-n32-k5.vrp  \n",
            "  inflating: CVRP_instances/A/A-n32-k5.sol  \n"
          ]
        }
      ]
    },
    {
      "cell_type": "code",
      "source": [
        "def get_instance(filename):\n",
        "  #n = -1 # num of clients/objects/jobs\n",
        "  k = -1 # num of vehicles/bins/machines\n",
        "  C = -1 # Capacitated of vehicle/job\n",
        "  p = [] # demands/weigths/processing time\n",
        "  in_demand_section = False #flag\n",
        "  with open(filename, 'r') as f:\n",
        "    for line in f:\n",
        "      line = line.strip()\n",
        "\n",
        "      #Get name\n",
        "      if line.startswith(\"NAME\"):\n",
        "        name = line.split(\":\")[1].strip()\n",
        "\n",
        "      #Get k\n",
        "      flag = False\n",
        "      if line.startswith(\"COMMENT\"):\n",
        "        for word in line.split():\n",
        "          if flag:\n",
        "            k = int(word.strip(\",\"))\n",
        "            break\n",
        "          if word == \"trucks:\":\n",
        "            flag = True\n",
        "            pass\n",
        "\n",
        "      #Get C\n",
        "      if line.startswith(\"CAPACITY\"):\n",
        "        C = int(line.split(\":\")[1])\n",
        "\n",
        "      #Get p\n",
        "      #Find the start of the demand section\n",
        "      if line.startswith(\"DEMAND_SECTION\"):\n",
        "        in_demand_section = True\n",
        "        continue\n",
        "\n",
        "      if in_demand_section:\n",
        "        if not line or line.startswith(\"EOF\") or line.startswith(\"DEPOT_SECTION\"):\n",
        "          break\n",
        "\n",
        "        #Split the line into node ID and demand (common format: \"id demand\")\n",
        "        parts = line.split()\n",
        "        if len(parts) >= 2:\n",
        "          try:\n",
        "            p_i = int(parts[1]) #in second column there are the demands\n",
        "            if p_i > 0:\n",
        "              p.append(p_i)\n",
        "          except (ValueError, IndexError):\n",
        "            continue\n",
        "\n",
        "        #Get n\n",
        "        n = len(p)\n",
        "  return name, n, k, C, p\n"
      ],
      "metadata": {
        "id": "Up6q9ZA5BMGB"
      },
      "execution_count": 3,
      "outputs": []
    },
    {
      "cell_type": "code",
      "source": [
        "name, n, k, C, p = get_instance('CVRP_instances/A/A-n80-k10.vrp')"
      ],
      "metadata": {
        "id": "UX4izCTsd5Sk"
      },
      "execution_count": 4,
      "outputs": []
    },
    {
      "cell_type": "code",
      "source": [
        "print(f\"name: {name}\")\n",
        "print(f\"n: {n}\")\n",
        "print(f\"k: {k}\")\n",
        "print(f\"C: {C}\")\n",
        "print(f\"p: {p}\")"
      ],
      "metadata": {
        "colab": {
          "base_uri": "https://localhost:8080/"
        },
        "id": "hI4Cga4vgttP",
        "outputId": "2827f398-3f46-46b2-90a8-6fea1e3af6ad"
      },
      "execution_count": 21,
      "outputs": [
        {
          "output_type": "stream",
          "name": "stdout",
          "text": [
            "name:  A-n80-k10\n",
            "n: 79\n",
            "k: 10\n",
            "C: 100\n",
            "p: [24, 22, 23, 5, 11, 23, 26, 9, 23, 9, 14, 16, 12, 2, 2, 6, 20, 26, 12, 15, 13, 26, 17, 7, 12, 4, 4, 20, 10, 9, 2, 9, 1, 2, 2, 12, 14, 23, 21, 13, 13, 23, 3, 6, 23, 11, 2, 7, 13, 10, 3, 6, 13, 2, 14, 7, 21, 7, 22, 13, 22, 18, 22, 6, 2, 11, 5, 9, 9, 5, 12, 2, 12, 19, 6, 14, 2, 2, 24]\n"
          ]
        }
      ]
    },
    {
      "cell_type": "code",
      "source": [
        "#procesar todos\n",
        "import os\n",
        "\n",
        "base_path = \"CVRP_instances/A\"\n",
        "os.makedirs(\"Instancias\", exist_ok=True)\n",
        "list_instances = \"Lista_Instancias.txt\"\n",
        "\n",
        "for filename in os.listdir(base_path):\n",
        "    if filename.endswith(\".vrp\"):\n",
        "        file_path = os.path.join(base_path, filename)\n",
        "        name, n, k, C, p = get_instance(file_path)\n",
        "        instance_file = os.path.join(\"Instancias\", f\"{name}.txt\")\n",
        "        with open(instance_file, \"w\", encoding=\"utf-8\") as f:\n",
        "            f.write(f\"{n}\\n{k}\\n{C}\\n\")\n",
        "            for pi in p:\n",
        "              f.write(str(pi) + \"\\n\")\n",
        "        print(f\"Create: {instance_file}\")\n",
        "\n",
        "        #list of Instances\n",
        "        with open(list_instances, \"a\", encoding=\"utf-8\") as f:\n",
        "            f.write(f\"Instancias\\{name}.txt\\n\")"
      ],
      "metadata": {
        "colab": {
          "base_uri": "https://localhost:8080/"
        },
        "id": "-T3o60goj1F3",
        "outputId": "afed7fe1-a622-4177-e39d-ab5dd37183fa"
      },
      "execution_count": 4,
      "outputs": [
        {
          "output_type": "stream",
          "name": "stdout",
          "text": [
            "Create: Instancias/A-n63-k9.txt\n",
            "Create: Instancias/A-n65-k9.txt\n",
            "Create: Instancias/A-n61-k9.txt\n",
            "Create: Instancias/A-n45-k6.txt\n",
            "Create: Instancias/A-n39-k6.txt\n",
            "Create: Instancias/A-n34-k5.txt\n",
            "Create: Instancias/A-n33-k6.txt\n",
            "Create: Instancias/A-n33-k5.txt\n",
            "Create: Instancias/A-n36-k5.txt\n",
            "Create: Instancias/A-n63-k10.txt\n",
            "Create: Instancias/A-n37-k6.txt\n",
            "Create: Instancias/A-n64-k9.txt\n",
            "Create: Instancias/A-n80-k10.txt\n",
            "Create: Instancias/A-n39-k5.txt\n",
            "Create: Instancias/A-n62-k8.txt\n",
            "Create: Instancias/A-n60-k9.txt\n",
            "Create: Instancias/A-n32-k5.txt\n",
            "Create: Instancias/A-n45-k7.txt\n",
            "Create: Instancias/A-n55-k9.txt\n",
            "Create: Instancias/A-n37-k5.txt\n",
            "Create: Instancias/A-n54-k7.txt\n",
            "Create: Instancias/A-n38-k5.txt\n",
            "Create: Instancias/A-n69-k9.txt\n",
            "Create: Instancias/A-n53-k7.txt\n",
            "Create: Instancias/A-n44-k6.txt\n",
            "Create: Instancias/A-n46-k7.txt\n",
            "Create: Instancias/A-n48-k7.txt\n"
          ]
        },
        {
          "output_type": "stream",
          "name": "stderr",
          "text": [
            "<>:21: SyntaxWarning: invalid escape sequence '\\{'\n",
            "<>:21: SyntaxWarning: invalid escape sequence '\\{'\n",
            "/tmp/ipython-input-4233461861.py:21: SyntaxWarning: invalid escape sequence '\\{'\n",
            "  f.write(f\"Instancias\\{name}.txt\\n\")\n"
          ]
        }
      ]
    },
    {
      "cell_type": "code",
      "source": [
        "import shutil\n",
        "shutil.make_archive('/content/Instancias', 'zip', '/content/Instancias')\n",
        "\n",
        "from google.colab import files\n",
        "files.download('/content/Instancias.zip')"
      ],
      "metadata": {
        "colab": {
          "base_uri": "https://localhost:8080/",
          "height": 17
        },
        "id": "Pd97UPEXpnDQ",
        "outputId": "15dfe9cd-e594-4c9d-968e-8722507c24df"
      },
      "execution_count": 5,
      "outputs": [
        {
          "output_type": "display_data",
          "data": {
            "text/plain": [
              "<IPython.core.display.Javascript object>"
            ],
            "application/javascript": [
              "\n",
              "    async function download(id, filename, size) {\n",
              "      if (!google.colab.kernel.accessAllowed) {\n",
              "        return;\n",
              "      }\n",
              "      const div = document.createElement('div');\n",
              "      const label = document.createElement('label');\n",
              "      label.textContent = `Downloading \"${filename}\": `;\n",
              "      div.appendChild(label);\n",
              "      const progress = document.createElement('progress');\n",
              "      progress.max = size;\n",
              "      div.appendChild(progress);\n",
              "      document.body.appendChild(div);\n",
              "\n",
              "      const buffers = [];\n",
              "      let downloaded = 0;\n",
              "\n",
              "      const channel = await google.colab.kernel.comms.open(id);\n",
              "      // Send a message to notify the kernel that we're ready.\n",
              "      channel.send({})\n",
              "\n",
              "      for await (const message of channel.messages) {\n",
              "        // Send a message to notify the kernel that we're ready.\n",
              "        channel.send({})\n",
              "        if (message.buffers) {\n",
              "          for (const buffer of message.buffers) {\n",
              "            buffers.push(buffer);\n",
              "            downloaded += buffer.byteLength;\n",
              "            progress.value = downloaded;\n",
              "          }\n",
              "        }\n",
              "      }\n",
              "      const blob = new Blob(buffers, {type: 'application/binary'});\n",
              "      const a = document.createElement('a');\n",
              "      a.href = window.URL.createObjectURL(blob);\n",
              "      a.download = filename;\n",
              "      div.appendChild(a);\n",
              "      a.click();\n",
              "      div.remove();\n",
              "    }\n",
              "  "
            ]
          },
          "metadata": {}
        },
        {
          "output_type": "display_data",
          "data": {
            "text/plain": [
              "<IPython.core.display.Javascript object>"
            ],
            "application/javascript": [
              "download(\"download_b0b5eb08-4268-4204-b726-c3db29c6fe8a\", \"Instancias.zip\", 4673)"
            ]
          },
          "metadata": {}
        }
      ]
    }
  ]
}